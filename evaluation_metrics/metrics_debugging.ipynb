{
 "cells": [
  {
   "cell_type": "code",
   "execution_count": 11,
   "metadata": {},
   "outputs": [
    {
     "name": "stdout",
     "output_type": "stream",
     "text": [
      "8000\n"
     ]
    }
   ],
   "source": [
    "import pandas as pd\n",
    "train_path = \"/Users/pdcos/Documents/Mestrado/IA025/Projeto_Final/Code/caption_medical_images/evaluation_metrics/predictions_checkpoint.csv\"\n",
    "col_names_captions = [\"img_name\", \"caption\"]\n",
    "df_precition = pd.read_csv(train_path, index_col=0, names=col_names_captions, engine=\"python\")\n",
    "df_precition = df_precition.iloc[1:, :]\n",
    "print(len(df_precition))"
   ]
  },
  {
   "cell_type": "code",
   "execution_count": 15,
   "metadata": {},
   "outputs": [],
   "source": [
    "dict_prediction_raw = df_precition.to_dict(orient=\"index\")"
   ]
  },
  {
   "cell_type": "code",
   "execution_count": 30,
   "metadata": {},
   "outputs": [],
   "source": [
    "dict_prediction = {}\n",
    "for item, value in dict_prediction_raw.items():\n",
    "    dict_prediction[item] = value[\"caption\"]"
   ]
  },
  {
   "cell_type": "code",
   "execution_count": 26,
   "metadata": {},
   "outputs": [
    {
     "name": "stdout",
     "output_type": "stream",
     "text": [
      "\u001b[1m\u001b[36mImageCLEF-CaptionPrediction-Evaluation\u001b[m\u001b[m predictions_bestmodel.csv\n",
      "evaluation_metrics.py                  predictions_checkpoint.csv\n",
      "metrics_debugging.ipynb                predictor.py\n"
     ]
    }
   ],
   "source": [
    "!ls"
   ]
  },
  {
   "cell_type": "code",
   "execution_count": 32,
   "metadata": {},
   "outputs": [
    {
     "name": "stderr",
     "output_type": "stream",
     "text": [
      "[nltk_data] Downloading package wordnet to /Users/pdcos/nltk_data...\n",
      "[nltk_data]   Package wordnet is already up-to-date!\n",
      "[nltk_data] Downloading package punkt to /Users/pdcos/nltk_data...\n",
      "[nltk_data]   Package punkt is already up-to-date!\n",
      "[nltk_data] Downloading package omw-1.4 to /Users/pdcos/nltk_data...\n",
      "[nltk_data]   Package omw-1.4 is already up-to-date!\n"
     ]
    }
   ],
   "source": [
    "from evaluation_metrics import MetricsEvaluator\n",
    "roco_path = \"/Users/pdcos/Documents/Mestrado/IA025/Projeto_Final/Code/caption_medical_images/dataset_structure/roco-dataset\"\n",
    "evaluator = MetricsEvaluator(roco_path=roco_path, mode=\"test\")"
   ]
  },
  {
   "cell_type": "code",
   "execution_count": 33,
   "metadata": {},
   "outputs": [
    {
     "name": "stdout",
     "output_type": "stream",
     "text": [
      "Calculando score BLEU...\n"
     ]
    },
    {
     "name": "stderr",
     "output_type": "stream",
     "text": [
      "100%|██████████| 8000/8000 [00:02<00:00, 2675.76it/s]\n"
     ]
    },
    {
     "data": {
      "text/plain": [
       "{'min_words': 3,\n",
       " 'max_words': 13,\n",
       " 'words_distrib': {'11': 799,\n",
       "  '10': 2860,\n",
       "  '5': 29,\n",
       "  '12': 592,\n",
       "  '7': 325,\n",
       "  '6': 1200,\n",
       "  '3': 463,\n",
       "  '8': 798,\n",
       "  '9': 797,\n",
       "  '4': 98,\n",
       "  '13': 39},\n",
       " 'avg_words_in_caption': 12.580875,\n",
       " 'most_sentences_in_caption': 2,\n",
       " 'obtained_score': 4.94121928332693,\n",
       " 'max_score': 8000,\n",
       " 'mean_bleu_score': 0.0006176524104158662}"
      ]
     },
     "execution_count": 33,
     "metadata": {},
     "output_type": "execute_result"
    }
   ],
   "source": [
    "evaluator.evaluate_bleu(dict_prediction, case_sensitive=True, stemming=True, remove_stopwords=True)"
   ]
  }
 ],
 "metadata": {
  "kernelspec": {
   "display_name": "Python 3.8.9 64-bit",
   "language": "python",
   "name": "python3"
  },
  "language_info": {
   "codemirror_mode": {
    "name": "ipython",
    "version": 3
   },
   "file_extension": ".py",
   "mimetype": "text/x-python",
   "name": "python",
   "nbconvert_exporter": "python",
   "pygments_lexer": "ipython3",
   "version": "3.8.9"
  },
  "orig_nbformat": 4,
  "vscode": {
   "interpreter": {
    "hash": "31f2aee4e71d21fbe5cf8b01ff0e069b9275f58929596ceb00d14d90e3e16cd6"
   }
  }
 },
 "nbformat": 4,
 "nbformat_minor": 2
}
