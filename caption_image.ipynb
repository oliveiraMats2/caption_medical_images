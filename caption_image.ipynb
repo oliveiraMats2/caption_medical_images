{
 "cells": [
  {
   "cell_type": "code",
   "execution_count": 3,
   "id": "efff02a4",
   "metadata": {},
   "outputs": [],
   "source": [
    "import yaml\n",
    "from torch import nn\n",
    "from torchsummary import summary\n",
    "from PIL import Image\n",
    "from torchvision.transforms import Compose, Resize, ToTensor\n",
    "from VIT_backbone.vit_transformer import PatchEmbedding, TransformerEncoder\n",
    "from transformer_decoder.transformer_decoder import LanguageModel\n",
    "from transformers import AutoTokenizer\n",
    "import torch\n",
    "from torch.utils.data import DataLoader\n",
    "from dataset_structure.medical_datasets import RocoDataset"
   ]
  },
  {
   "cell_type": "code",
   "execution_count": 4,
   "id": "7b6ee584",
   "metadata": {},
   "outputs": [],
   "source": [
    "tokenizer = AutoTokenizer.from_pretrained('allenai/scibert_scivocab_cased')\n",
    "\n",
    "with open('VIT_backbone/config_vit.yaml', 'r') as file:\n",
    "    parameters = yaml.safe_load(file)"
   ]
  },
  {
   "cell_type": "code",
   "execution_count": 5,
   "id": "70e3a269",
   "metadata": {},
   "outputs": [],
   "source": [
    "class ViT(nn.Sequential):\n",
    "    def __init__(self,\n",
    "                 in_channels: int = parameters['in_channels'],\n",
    "                 patch_size: int = parameters['patch_size'],\n",
    "                 emb_size: int = parameters['emb_size'],\n",
    "                 img_size: int = parameters['img_size'],\n",
    "                 depth: int = parameters['depth'],\n",
    "                 **kwargs):\n",
    "        super().__init__(\n",
    "            PatchEmbedding(in_channels, patch_size, emb_size, img_size),\n",
    "            TransformerEncoder(depth, emb_size=emb_size, **kwargs),\n",
    "        )"
   ]
  },
  {
   "cell_type": "code",
   "execution_count": 7,
   "id": "fcd93879",
   "metadata": {},
   "outputs": [
    {
     "name": "stdout",
     "output_type": "stream",
     "text": [
      "torch.Size([1, 3, 224, 224])\n"
     ]
    }
   ],
   "source": [
    "img = Image.open('img_test.jpg')\n",
    "\n",
    "transform = Compose([Resize((224, 224)), ToTensor()])\n",
    "x = transform(img)\n",
    "x = x.unsqueeze(0)  # add batch dim\n",
    "print(x.shape)\n",
    "\n",
    "vision_transformer = ViT()\n",
    "\n",
    "#summary(vision_transformer)\n",
    "\n",
    "output_encoder = vision_transformer.forward(x)"
   ]
  },
  {
   "cell_type": "code",
   "execution_count": 8,
   "id": "f541b9d4",
   "metadata": {},
   "outputs": [
    {
     "name": "stdout",
     "output_type": "stream",
     "text": [
      "Using cuda:0\n"
     ]
    }
   ],
   "source": [
    "if torch.cuda.is_available():\n",
    "    dev = \"cuda:0\"\n",
    "else:\n",
    "    dev = \"cpu\"\n",
    "device = torch.device(dev)\n",
    "print('Using {}'.format(device))"
   ]
  },
  {
   "cell_type": "code",
   "execution_count": 9,
   "id": "ea4def79",
   "metadata": {},
   "outputs": [],
   "source": [
    "max_seq_length = 9\n",
    "\n",
    "model = LanguageModel(\n",
    "    vocab_size=tokenizer.vocab_size,\n",
    "    max_seq_length=max_seq_length,\n",
    "    dim=64,\n",
    "    pad_token_id=tokenizer.pad_token_id,\n",
    ").to(device)"
   ]
  },
  {
   "cell_type": "code",
   "execution_count": 10,
   "id": "d15a33f5",
   "metadata": {},
   "outputs": [],
   "source": [
    "roco_path = \"roco-dataset/\"\n",
    "dataset = RocoDataset(roco_path=roco_path, mode=\"train\")\n",
    "sample_img = dataset[1]\n",
    "\n",
    "roco_loader = DataLoader(dataset, batch_size=10, shuffle=True)\n",
    "img, caption_input, caption_target, keywords_input, img_name = next(iter(roco_loader))\n",
    "\n",
    "output_encoder = vision_transformer.forward(img)\n"
   ]
  },
  {
   "cell_type": "code",
   "execution_count": null,
   "id": "595380c1",
   "metadata": {},
   "outputs": [],
   "source": [
    "print(f\"shape da saida: {output_encoder.shape}\")\n",
    "\n",
    "model(caption_input.to(device), output_encoder.to(device), output_encoder.to(device))"
   ]
  },
  {
   "cell_type": "code",
   "execution_count": null,
   "id": "b042f3b7",
   "metadata": {},
   "outputs": [],
   "source": [
    "%debug"
   ]
  },
  {
   "cell_type": "code",
   "execution_count": null,
   "id": "f85783db",
   "metadata": {},
   "outputs": [],
   "source": []
  }
 ],
 "metadata": {
  "kernelspec": {
   "display_name": "Python 3 (ipykernel)",
   "language": "python",
   "name": "python3"
  },
  "language_info": {
   "codemirror_mode": {
    "name": "ipython",
    "version": 3
   },
   "file_extension": ".py",
   "mimetype": "text/x-python",
   "name": "python",
   "nbconvert_exporter": "python",
   "pygments_lexer": "ipython3",
   "version": "3.9.7"
  }
 },
 "nbformat": 4,
 "nbformat_minor": 5
}
