{
 "cells": [
  {
   "cell_type": "markdown",
   "id": "e1ad9264",
   "metadata": {},
   "source": [
    "### DataLoader"
   ]
  },
  {
   "cell_type": "code",
   "execution_count": 13,
   "id": "b0ae038d",
   "metadata": {},
   "outputs": [
    {
     "ename": "NeptuneModelKeyAlreadyExistsError",
     "evalue": "\n\u001b[95m\n----NeptuneModelKeyAlreadyExistsError---------------------------------------------------\n\u001b[0m\nA model with the provided key (MOD) already exists in this project. A model key has to be unique\nwithin the project.\n\nYou can check all of your models in the project on the Models page:\nhttps://app.neptune.ai/oliveira/captionImageMonitoring/models\n\n\u001b[92mNeed help?\u001b[0m-> https://docs.neptune.ai/getting-started/getting-help\n",
     "output_type": "error",
     "traceback": [
      "\u001b[0;31m---------------------------------------------------------------------------\u001b[0m",
      "\u001b[0;31mHTTPConflict\u001b[0m                              Traceback (most recent call last)",
      "\u001b[0;32m~/anaconda3/envs/ocr_estacio/lib/python3.9/site-packages/neptune/new/internal/backends/hosted_neptune_backend.py\u001b[0m in \u001b[0;36m_create_experiment\u001b[0;34m(self, project_id, parent_id, container_type, additional_params)\u001b[0m\n\u001b[1;32m    394\u001b[0m         \u001b[0;32mtry\u001b[0m\u001b[0;34m:\u001b[0m\u001b[0;34m\u001b[0m\u001b[0;34m\u001b[0m\u001b[0m\n\u001b[0;32m--> 395\u001b[0;31m             \u001b[0mexperiment\u001b[0m \u001b[0;34m=\u001b[0m \u001b[0mself\u001b[0m\u001b[0;34m.\u001b[0m\u001b[0mleaderboard_client\u001b[0m\u001b[0;34m.\u001b[0m\u001b[0mapi\u001b[0m\u001b[0;34m.\u001b[0m\u001b[0mcreateExperiment\u001b[0m\u001b[0;34m(\u001b[0m\u001b[0;34m**\u001b[0m\u001b[0mkwargs\u001b[0m\u001b[0;34m)\u001b[0m\u001b[0;34m.\u001b[0m\u001b[0mresponse\u001b[0m\u001b[0;34m(\u001b[0m\u001b[0;34m)\u001b[0m\u001b[0;34m.\u001b[0m\u001b[0mresult\u001b[0m\u001b[0;34m\u001b[0m\u001b[0;34m\u001b[0m\u001b[0m\n\u001b[0m\u001b[1;32m    396\u001b[0m             \u001b[0;32mreturn\u001b[0m \u001b[0mApiExperiment\u001b[0m\u001b[0;34m.\u001b[0m\u001b[0mfrom_experiment\u001b[0m\u001b[0;34m(\u001b[0m\u001b[0mexperiment\u001b[0m\u001b[0;34m)\u001b[0m\u001b[0;34m\u001b[0m\u001b[0;34m\u001b[0m\u001b[0m\n",
      "\u001b[0;32m~/anaconda3/envs/ocr_estacio/lib/python3.9/site-packages/neptune/new/internal/backends/swagger_client_wrapper.py\u001b[0m in \u001b[0;36m__call__\u001b[0;34m(self, *args, **kwargs)\u001b[0m\n\u001b[1;32m     60\u001b[0m         \u001b[0;32mexcept\u001b[0m \u001b[0mHTTPError\u001b[0m \u001b[0;32mas\u001b[0m \u001b[0me\u001b[0m\u001b[0;34m:\u001b[0m\u001b[0;34m\u001b[0m\u001b[0;34m\u001b[0m\u001b[0m\n\u001b[0;32m---> 61\u001b[0;31m             \u001b[0mself\u001b[0m\u001b[0;34m.\u001b[0m\u001b[0mhandle_neptune_http_errors\u001b[0m\u001b[0;34m(\u001b[0m\u001b[0me\u001b[0m\u001b[0;34m.\u001b[0m\u001b[0mresponse\u001b[0m\u001b[0;34m,\u001b[0m \u001b[0mexception\u001b[0m\u001b[0;34m=\u001b[0m\u001b[0me\u001b[0m\u001b[0;34m)\u001b[0m\u001b[0;34m\u001b[0m\u001b[0;34m\u001b[0m\u001b[0m\n\u001b[0m\u001b[1;32m     62\u001b[0m \u001b[0;34m\u001b[0m\u001b[0m\n",
      "\u001b[0;32m~/anaconda3/envs/ocr_estacio/lib/python3.9/site-packages/neptune/new/internal/backends/swagger_client_wrapper.py\u001b[0m in \u001b[0;36mhandle_neptune_http_errors\u001b[0;34m(response, exception)\u001b[0m\n\u001b[1;32m     53\u001b[0m         \u001b[0;32melif\u001b[0m \u001b[0mexception\u001b[0m\u001b[0;34m:\u001b[0m\u001b[0;34m\u001b[0m\u001b[0;34m\u001b[0m\u001b[0m\n\u001b[0;32m---> 54\u001b[0;31m             \u001b[0;32mraise\u001b[0m \u001b[0mexception\u001b[0m\u001b[0;34m\u001b[0m\u001b[0;34m\u001b[0m\u001b[0m\n\u001b[0m\u001b[1;32m     55\u001b[0m \u001b[0;34m\u001b[0m\u001b[0m\n",
      "\u001b[0;32m~/anaconda3/envs/ocr_estacio/lib/python3.9/site-packages/neptune/new/internal/backends/swagger_client_wrapper.py\u001b[0m in \u001b[0;36m__call__\u001b[0;34m(self, *args, **kwargs)\u001b[0m\n\u001b[1;32m     58\u001b[0m             \u001b[0mfuture\u001b[0m \u001b[0;34m=\u001b[0m \u001b[0mself\u001b[0m\u001b[0;34m.\u001b[0m\u001b[0m_api_method\u001b[0m\u001b[0;34m(\u001b[0m\u001b[0;34m*\u001b[0m\u001b[0margs\u001b[0m\u001b[0;34m,\u001b[0m \u001b[0;34m**\u001b[0m\u001b[0mkwargs\u001b[0m\u001b[0;34m)\u001b[0m\u001b[0;34m\u001b[0m\u001b[0;34m\u001b[0m\u001b[0m\n\u001b[0;32m---> 59\u001b[0;31m             \u001b[0;32mreturn\u001b[0m \u001b[0mFinishedApiResponseFuture\u001b[0m\u001b[0;34m(\u001b[0m\u001b[0mfuture\u001b[0m\u001b[0;34m.\u001b[0m\u001b[0mresponse\u001b[0m\u001b[0;34m(\u001b[0m\u001b[0;34m)\u001b[0m\u001b[0;34m)\u001b[0m  \u001b[0;31m# wait synchronously\u001b[0m\u001b[0;34m\u001b[0m\u001b[0;34m\u001b[0m\u001b[0m\n\u001b[0m\u001b[1;32m     60\u001b[0m         \u001b[0;32mexcept\u001b[0m \u001b[0mHTTPError\u001b[0m \u001b[0;32mas\u001b[0m \u001b[0me\u001b[0m\u001b[0;34m:\u001b[0m\u001b[0;34m\u001b[0m\u001b[0;34m\u001b[0m\u001b[0m\n",
      "\u001b[0;32m~/anaconda3/envs/ocr_estacio/lib/python3.9/site-packages/bravado/http_future.py\u001b[0m in \u001b[0;36mresponse\u001b[0;34m(self, timeout, fallback_result, exceptions_to_catch)\u001b[0m\n\u001b[1;32m    199\u001b[0m \u001b[0;34m\u001b[0m\u001b[0m\n\u001b[0;32m--> 200\u001b[0;31m             \u001b[0mswagger_result\u001b[0m \u001b[0;34m=\u001b[0m \u001b[0mself\u001b[0m\u001b[0;34m.\u001b[0m\u001b[0m_get_swagger_result\u001b[0m\u001b[0;34m(\u001b[0m\u001b[0mincoming_response\u001b[0m\u001b[0;34m)\u001b[0m\u001b[0;34m\u001b[0m\u001b[0;34m\u001b[0m\u001b[0m\n\u001b[0m\u001b[1;32m    201\u001b[0m \u001b[0;34m\u001b[0m\u001b[0m\n",
      "\u001b[0;32m~/anaconda3/envs/ocr_estacio/lib/python3.9/site-packages/bravado/http_future.py\u001b[0m in \u001b[0;36mwrapper\u001b[0;34m(self, *args, **kwargs)\u001b[0m\n\u001b[1;32m    123\u001b[0m         \u001b[0;32mtry\u001b[0m\u001b[0;34m:\u001b[0m\u001b[0;34m\u001b[0m\u001b[0;34m\u001b[0m\u001b[0m\n\u001b[0;32m--> 124\u001b[0;31m             \u001b[0;32mreturn\u001b[0m \u001b[0mfunc\u001b[0m\u001b[0;34m(\u001b[0m\u001b[0mself\u001b[0m\u001b[0;34m,\u001b[0m \u001b[0;34m*\u001b[0m\u001b[0margs\u001b[0m\u001b[0;34m,\u001b[0m \u001b[0;34m**\u001b[0m\u001b[0mkwargs\u001b[0m\u001b[0;34m)\u001b[0m\u001b[0;34m\u001b[0m\u001b[0;34m\u001b[0m\u001b[0m\n\u001b[0m\u001b[1;32m    125\u001b[0m         \u001b[0;32mexcept\u001b[0m \u001b[0mconnection_errors\u001b[0m \u001b[0;32mas\u001b[0m \u001b[0mexception\u001b[0m\u001b[0;34m:\u001b[0m\u001b[0;34m\u001b[0m\u001b[0;34m\u001b[0m\u001b[0m\n",
      "\u001b[0;32m~/anaconda3/envs/ocr_estacio/lib/python3.9/site-packages/bravado/http_future.py\u001b[0m in \u001b[0;36m_get_swagger_result\u001b[0;34m(self, incoming_response)\u001b[0m\n\u001b[1;32m    299\u001b[0m         \u001b[0;32mif\u001b[0m \u001b[0mself\u001b[0m\u001b[0;34m.\u001b[0m\u001b[0moperation\u001b[0m \u001b[0;32mis\u001b[0m \u001b[0;32mnot\u001b[0m \u001b[0;32mNone\u001b[0m\u001b[0;34m:\u001b[0m\u001b[0;34m\u001b[0m\u001b[0;34m\u001b[0m\u001b[0m\n\u001b[0;32m--> 300\u001b[0;31m             unmarshal_response(\n\u001b[0m\u001b[1;32m    301\u001b[0m                 \u001b[0mincoming_response\u001b[0m\u001b[0;34m,\u001b[0m\u001b[0;34m\u001b[0m\u001b[0;34m\u001b[0m\u001b[0m\n",
      "\u001b[0;32m~/anaconda3/envs/ocr_estacio/lib/python3.9/site-packages/bravado/http_future.py\u001b[0m in \u001b[0;36munmarshal_response\u001b[0;34m(incoming_response, operation, response_callbacks)\u001b[0m\n\u001b[1;32m    352\u001b[0m \u001b[0;34m\u001b[0m\u001b[0m\n\u001b[0;32m--> 353\u001b[0;31m     \u001b[0mraise_on_expected\u001b[0m\u001b[0;34m(\u001b[0m\u001b[0mincoming_response\u001b[0m\u001b[0;34m)\u001b[0m\u001b[0;34m\u001b[0m\u001b[0;34m\u001b[0m\u001b[0m\n\u001b[0m\u001b[1;32m    354\u001b[0m \u001b[0;34m\u001b[0m\u001b[0m\n",
      "\u001b[0;32m~/anaconda3/envs/ocr_estacio/lib/python3.9/site-packages/bravado/http_future.py\u001b[0m in \u001b[0;36mraise_on_expected\u001b[0;34m(http_response)\u001b[0m\n\u001b[1;32m    419\u001b[0m     \u001b[0;32mif\u001b[0m \u001b[0;32mnot\u001b[0m \u001b[0;36m200\u001b[0m \u001b[0;34m<=\u001b[0m \u001b[0mhttp_response\u001b[0m\u001b[0;34m.\u001b[0m\u001b[0mstatus_code\u001b[0m \u001b[0;34m<\u001b[0m \u001b[0;36m300\u001b[0m\u001b[0;34m:\u001b[0m\u001b[0;34m\u001b[0m\u001b[0;34m\u001b[0m\u001b[0m\n\u001b[0;32m--> 420\u001b[0;31m         raise make_http_exception(\n\u001b[0m\u001b[1;32m    421\u001b[0m             \u001b[0mresponse\u001b[0m\u001b[0;34m=\u001b[0m\u001b[0mhttp_response\u001b[0m\u001b[0;34m,\u001b[0m\u001b[0;34m\u001b[0m\u001b[0;34m\u001b[0m\u001b[0m\n",
      "\u001b[0;31mHTTPConflict\u001b[0m: 409 ",
      "\nThe above exception was the direct cause of the following exception:\n",
      "\u001b[0;31mNeptuneObjectCreationConflict\u001b[0m             Traceback (most recent call last)",
      "\u001b[0;32m~/anaconda3/envs/ocr_estacio/lib/python3.9/site-packages/neptune/new/internal/init/model.py\u001b[0m in \u001b[0;36minit_model\u001b[0;34m(model, name, key, project, api_token, mode, flush_period, proxies)\u001b[0m\n\u001b[1;32m     92\u001b[0m         \u001b[0;32mtry\u001b[0m\u001b[0;34m:\u001b[0m\u001b[0;34m\u001b[0m\u001b[0;34m\u001b[0m\u001b[0m\n\u001b[0;32m---> 93\u001b[0;31m             \u001b[0mapi_model\u001b[0m \u001b[0;34m=\u001b[0m \u001b[0mbackend\u001b[0m\u001b[0;34m.\u001b[0m\u001b[0mcreate_model\u001b[0m\u001b[0;34m(\u001b[0m\u001b[0mproject_id\u001b[0m\u001b[0;34m=\u001b[0m\u001b[0mproject_obj\u001b[0m\u001b[0;34m.\u001b[0m\u001b[0mid\u001b[0m\u001b[0;34m,\u001b[0m \u001b[0mkey\u001b[0m\u001b[0;34m=\u001b[0m\u001b[0mkey\u001b[0m\u001b[0;34m)\u001b[0m\u001b[0;34m\u001b[0m\u001b[0;34m\u001b[0m\u001b[0m\n\u001b[0m\u001b[1;32m     94\u001b[0m         \u001b[0;32mexcept\u001b[0m \u001b[0mNeptuneObjectCreationConflict\u001b[0m \u001b[0;32mas\u001b[0m \u001b[0me\u001b[0m\u001b[0;34m:\u001b[0m\u001b[0;34m\u001b[0m\u001b[0;34m\u001b[0m\u001b[0m\n",
      "\u001b[0;32m~/anaconda3/envs/ocr_estacio/lib/python3.9/site-packages/neptune/new/internal/backends/utils.py\u001b[0m in \u001b[0;36mwrapper\u001b[0;34m(*args, **kwargs)\u001b[0m\n\u001b[1;32m     89\u001b[0m             \u001b[0;32mtry\u001b[0m\u001b[0;34m:\u001b[0m\u001b[0;34m\u001b[0m\u001b[0;34m\u001b[0m\u001b[0m\n\u001b[0;32m---> 90\u001b[0;31m                 \u001b[0;32mreturn\u001b[0m \u001b[0mfunc\u001b[0m\u001b[0;34m(\u001b[0m\u001b[0;34m*\u001b[0m\u001b[0margs\u001b[0m\u001b[0;34m,\u001b[0m \u001b[0;34m**\u001b[0m\u001b[0mkwargs\u001b[0m\u001b[0;34m)\u001b[0m\u001b[0;34m\u001b[0m\u001b[0;34m\u001b[0m\u001b[0m\n\u001b[0m\u001b[1;32m     91\u001b[0m             \u001b[0;32mexcept\u001b[0m \u001b[0mrequests\u001b[0m\u001b[0;34m.\u001b[0m\u001b[0mexceptions\u001b[0m\u001b[0;34m.\u001b[0m\u001b[0mInvalidHeader\u001b[0m \u001b[0;32mas\u001b[0m \u001b[0me\u001b[0m\u001b[0;34m:\u001b[0m\u001b[0;34m\u001b[0m\u001b[0;34m\u001b[0m\u001b[0m\n",
      "\u001b[0;32m~/anaconda3/envs/ocr_estacio/lib/python3.9/site-packages/neptune/new/internal/backends/hosted_neptune_backend.py\u001b[0m in \u001b[0;36mcreate_model\u001b[0;34m(self, project_id, key)\u001b[0m\n\u001b[1;32m    354\u001b[0m \u001b[0;34m\u001b[0m\u001b[0m\n\u001b[0;32m--> 355\u001b[0;31m         return self._create_experiment(\n\u001b[0m\u001b[1;32m    356\u001b[0m             \u001b[0mproject_id\u001b[0m\u001b[0;34m=\u001b[0m\u001b[0mproject_id\u001b[0m\u001b[0;34m,\u001b[0m\u001b[0;34m\u001b[0m\u001b[0;34m\u001b[0m\u001b[0m\n",
      "\u001b[0;32m~/anaconda3/envs/ocr_estacio/lib/python3.9/site-packages/neptune/new/internal/backends/hosted_neptune_backend.py\u001b[0m in \u001b[0;36m_create_experiment\u001b[0;34m(self, project_id, parent_id, container_type, additional_params)\u001b[0m\n\u001b[1;32m    399\u001b[0m         \u001b[0;32mexcept\u001b[0m \u001b[0mHTTPConflict\u001b[0m \u001b[0;32mas\u001b[0m \u001b[0me\u001b[0m\u001b[0;34m:\u001b[0m\u001b[0;34m\u001b[0m\u001b[0;34m\u001b[0m\u001b[0m\n\u001b[0;32m--> 400\u001b[0;31m             \u001b[0;32mraise\u001b[0m \u001b[0mNeptuneObjectCreationConflict\u001b[0m\u001b[0;34m(\u001b[0m\u001b[0;34m)\u001b[0m \u001b[0;32mfrom\u001b[0m \u001b[0me\u001b[0m\u001b[0;34m\u001b[0m\u001b[0;34m\u001b[0m\u001b[0m\n\u001b[0m\u001b[1;32m    401\u001b[0m \u001b[0;34m\u001b[0m\u001b[0m\n",
      "\u001b[0;31mNeptuneObjectCreationConflict\u001b[0m: ",
      "\nThe above exception was the direct cause of the following exception:\n",
      "\u001b[0;31mNeptuneModelKeyAlreadyExistsError\u001b[0m         Traceback (most recent call last)",
      "\u001b[0;32m/tmp/ipykernel_223772/18888425.py\u001b[0m in \u001b[0;36m<module>\u001b[0;34m\u001b[0m\n\u001b[1;32m      1\u001b[0m \u001b[0;32mimport\u001b[0m \u001b[0mneptune\u001b[0m\u001b[0;34m.\u001b[0m\u001b[0mnew\u001b[0m \u001b[0;32mas\u001b[0m \u001b[0mneptune\u001b[0m\u001b[0;34m\u001b[0m\u001b[0;34m\u001b[0m\u001b[0m\n\u001b[0;32m----> 2\u001b[0;31m model = neptune.init_model(\n\u001b[0m\u001b[1;32m      3\u001b[0m     \u001b[0mname\u001b[0m\u001b[0;34m=\u001b[0m\u001b[0;34m\"Prediction model\"\u001b[0m\u001b[0;34m,\u001b[0m\u001b[0;34m\u001b[0m\u001b[0;34m\u001b[0m\u001b[0m\n\u001b[1;32m      4\u001b[0m     \u001b[0mkey\u001b[0m\u001b[0;34m=\u001b[0m\u001b[0;34m\"MOD\"\u001b[0m\u001b[0;34m,\u001b[0m\u001b[0;34m\u001b[0m\u001b[0;34m\u001b[0m\u001b[0m\n\u001b[1;32m      5\u001b[0m     \u001b[0mproject\u001b[0m\u001b[0;34m=\u001b[0m\u001b[0;34m\"oliveira/captionImageMonitoring\"\u001b[0m\u001b[0;34m,\u001b[0m\u001b[0;34m\u001b[0m\u001b[0;34m\u001b[0m\u001b[0m\n",
      "\u001b[0;32m~/anaconda3/envs/ocr_estacio/lib/python3.9/site-packages/neptune/new/internal/init/model.py\u001b[0m in \u001b[0;36minit_model\u001b[0;34m(model, name, key, project, api_token, mode, flush_period, proxies)\u001b[0m\n\u001b[1;32m     94\u001b[0m         \u001b[0;32mexcept\u001b[0m \u001b[0mNeptuneObjectCreationConflict\u001b[0m \u001b[0;32mas\u001b[0m \u001b[0me\u001b[0m\u001b[0;34m:\u001b[0m\u001b[0;34m\u001b[0m\u001b[0;34m\u001b[0m\u001b[0m\n\u001b[1;32m     95\u001b[0m             \u001b[0mbase_url\u001b[0m \u001b[0;34m=\u001b[0m \u001b[0mbackend\u001b[0m\u001b[0;34m.\u001b[0m\u001b[0mget_display_address\u001b[0m\u001b[0;34m(\u001b[0m\u001b[0;34m)\u001b[0m\u001b[0;34m\u001b[0m\u001b[0;34m\u001b[0m\u001b[0m\n\u001b[0;32m---> 96\u001b[0;31m             raise NeptuneModelKeyAlreadyExistsError(\n\u001b[0m\u001b[1;32m     97\u001b[0m                 \u001b[0mmodel_key\u001b[0m\u001b[0;34m=\u001b[0m\u001b[0mkey\u001b[0m\u001b[0;34m,\u001b[0m\u001b[0;34m\u001b[0m\u001b[0;34m\u001b[0m\u001b[0m\n\u001b[1;32m     98\u001b[0m                 \u001b[0mmodels_tab_url\u001b[0m\u001b[0;34m=\u001b[0m\u001b[0;34mf\"{base_url}/{project_obj.workspace}/{project_obj.name}/models\"\u001b[0m\u001b[0;34m,\u001b[0m\u001b[0;34m\u001b[0m\u001b[0;34m\u001b[0m\u001b[0m\n",
      "\u001b[0;31mNeptuneModelKeyAlreadyExistsError\u001b[0m: \n\u001b[95m\n----NeptuneModelKeyAlreadyExistsError---------------------------------------------------\n\u001b[0m\nA model with the provided key (MOD) already exists in this project. A model key has to be unique\nwithin the project.\n\nYou can check all of your models in the project on the Models page:\nhttps://app.neptune.ai/oliveira/captionImageMonitoring/models\n\n\u001b[92mNeed help?\u001b[0m-> https://docs.neptune.ai/getting-started/getting-help\n"
     ]
    }
   ],
   "source": [
    "import neptune.new as neptune\n",
    "model = neptune.init_model(\n",
    "    name=\"Prediction model\",\n",
    "    key=\"MOD\", \n",
    "    project=\"oliveira/captionImageMonitoring\", \n",
    "    api_token=\"eyJhcGlfYWRkcmVzcyI6Imh0dHBzOi8vYXBwLm5lcHR1bmUuYWkiLCJhcGlfdXJsIjoiaHR0cHM6Ly9hcHAubmVwdHVuZS5haSIsImFwaV9rZXkiOiI2MmEyOGVhMC0xMjA1LTRhMTMtOTFkNi0wNmE5MzNhZWM4ZmUifQ==\", # your credentials\n",
    ")"
   ]
  },
  {
   "cell_type": "code",
   "execution_count": 12,
   "id": "e813fbd1",
   "metadata": {},
   "outputs": [
    {
     "ename": "NeptunePossibleLegacyUsageException",
     "evalue": "\n\u001b[95m\n----NeptunePossibleLegacyUsageException----------------------------------------------------------------\n\u001b[0m\nIt seems you are trying to use legacy API, but imported the new one.\n\nSimply update your import statement to:\n    \u001b[96mimport neptune\u001b[0m\n\nYou may want to check the Legacy API docs:\n    - https://docs-legacy.neptune.ai\n\nIf you want to update your code with the new API we prepared a handy migration guide:\n    - https://docs.neptune.ai/migration-guide\n\nYou can read more about neptune.new in the release blog post:\n    - https://neptune.ai/blog/neptune-new\n\nYou may also want to check the following docs pages:\n    - https://docs-legacy.neptune.ai/getting-started/integrate-neptune-into-your-codebase.html\n\n\u001b[92mNeed help?\u001b[0m-> https://docs.neptune.ai/getting-started/getting-help\n",
     "output_type": "error",
     "traceback": [
      "\u001b[0;31m---------------------------------------------------------------------------\u001b[0m",
      "\u001b[0;31mNeptunePossibleLegacyUsageException\u001b[0m       Traceback (most recent call last)",
      "\u001b[0;32m/tmp/ipykernel_223772/862365933.py\u001b[0m in \u001b[0;36m<module>\u001b[0;34m\u001b[0m\n\u001b[0;32m----> 1\u001b[0;31m \u001b[0mneptune\u001b[0m\u001b[0;34m.\u001b[0m\u001b[0mstop\u001b[0m\u001b[0;34m(\u001b[0m\u001b[0;34m)\u001b[0m\u001b[0;34m\u001b[0m\u001b[0;34m\u001b[0m\u001b[0m\n\u001b[0m",
      "\u001b[0;32m~/anaconda3/envs/ocr_estacio/lib/python3.9/site-packages/neptune/new/__init__.py\u001b[0m in \u001b[0;36m_raise_legacy_client_expected\u001b[0;34m(*args, **kwargs)\u001b[0m\n\u001b[1;32m     48\u001b[0m \u001b[0;34m\u001b[0m\u001b[0m\n\u001b[1;32m     49\u001b[0m \u001b[0;32mdef\u001b[0m \u001b[0m_raise_legacy_client_expected\u001b[0m\u001b[0;34m(\u001b[0m\u001b[0;34m*\u001b[0m\u001b[0margs\u001b[0m\u001b[0;34m,\u001b[0m \u001b[0;34m**\u001b[0m\u001b[0mkwargs\u001b[0m\u001b[0;34m)\u001b[0m\u001b[0;34m:\u001b[0m\u001b[0;34m\u001b[0m\u001b[0;34m\u001b[0m\u001b[0m\n\u001b[0;32m---> 50\u001b[0;31m     \u001b[0;32mraise\u001b[0m \u001b[0mNeptunePossibleLegacyUsageException\u001b[0m\u001b[0;34m(\u001b[0m\u001b[0;34m)\u001b[0m\u001b[0;34m\u001b[0m\u001b[0;34m\u001b[0m\u001b[0m\n\u001b[0m\u001b[1;32m     51\u001b[0m \u001b[0;34m\u001b[0m\u001b[0m\n\u001b[1;32m     52\u001b[0m \u001b[0;34m\u001b[0m\u001b[0m\n",
      "\u001b[0;31mNeptunePossibleLegacyUsageException\u001b[0m: \n\u001b[95m\n----NeptunePossibleLegacyUsageException----------------------------------------------------------------\n\u001b[0m\nIt seems you are trying to use legacy API, but imported the new one.\n\nSimply update your import statement to:\n    \u001b[96mimport neptune\u001b[0m\n\nYou may want to check the Legacy API docs:\n    - https://docs-legacy.neptune.ai\n\nIf you want to update your code with the new API we prepared a handy migration guide:\n    - https://docs.neptune.ai/migration-guide\n\nYou can read more about neptune.new in the release blog post:\n    - https://neptune.ai/blog/neptune-new\n\nYou may also want to check the following docs pages:\n    - https://docs-legacy.neptune.ai/getting-started/integrate-neptune-into-your-codebase.html\n\n\u001b[92mNeed help?\u001b[0m-> https://docs.neptune.ai/getting-started/getting-help\n"
     ]
    }
   ],
   "source": [
    "neptune.stop()"
   ]
  },
  {
   "cell_type": "code",
   "execution_count": null,
   "id": "f5cc29d3",
   "metadata": {},
   "outputs": [],
   "source": [
    "import torch\n",
    "import torch.nn.functional as F\n",
    "import matplotlib.pyplot as plt\n",
    "import numpy as np\n",
    "\n",
    "from torch import nn\n",
    "from torch import Tensor\n",
    "from PIL import Image\n",
    "from torchvision    import transforms\n",
    "from torchvision.transforms import Compose, Resize, ToTensor\n",
    "from einops import rearrange, reduce, repeat\n",
    "from einops.layers.torch import Rearrange, Reduce\n",
    "from torchsummary import summary"
   ]
  },
  {
   "cell_type": "code",
   "execution_count": null,
   "id": "efa8d912",
   "metadata": {},
   "outputs": [],
   "source": [
    "img = Image.open('../../images_02/00002447_00000001_slap_R_01.png')\n",
    "\n",
    "fig = plt.figure()\n",
    "plt.imshow(img)"
   ]
  },
  {
   "cell_type": "code",
   "execution_count": null,
   "id": "1bc8f0f0",
   "metadata": {},
   "outputs": [],
   "source": [
    "# resize image\n",
    "transform = Compose([Resize((224, 224)), ToTensor()])\n",
    "x = transform(img)\n",
    "x = x.unsqueeze(0) # add batch dim\n",
    "x.shape"
   ]
  },
  {
   "cell_type": "markdown",
   "id": "d25ff8bd",
   "metadata": {},
   "source": [
    "### Organize shape on array Example:"
   ]
  },
  {
   "cell_type": "code",
   "execution_count": null,
   "id": "66143ada",
   "metadata": {},
   "outputs": [],
   "source": [
    "print(rearrange(np.arange(50), '(h n) -> h n', h=5).shape)# sinaliza de alguma forma que vai divir antes (h n)\n",
    "print(rearrange(np.arange(50), '(h n) -> h n', h=10).shape)\n",
    "print(rearrange(np.arange(50), '(h n) -> n h', h=10).shape)"
   ]
  },
  {
   "cell_type": "code",
   "execution_count": null,
   "id": "6c440b81",
   "metadata": {},
   "outputs": [],
   "source": [
    "\"\"\"\n",
    "# a grayscale image (of shape height x width)\n",
    ">>> image = np.random.randn(30, 40)\n",
    "\n",
    "# change it to RGB format by repeating in each channel\n",
    ">>> repeat(image, 'h w -> h w c', c=3).shape\n",
    "(30, 40, 3)\n",
    "\"\"\""
   ]
  },
  {
   "cell_type": "code",
   "execution_count": 2,
   "id": "2daefbd9",
   "metadata": {},
   "outputs": [
    {
     "ename": "NameError",
     "evalue": "name 'rearrange' is not defined",
     "output_type": "error",
     "traceback": [
      "\u001b[0;31m---------------------------------------------------------------------------\u001b[0m",
      "\u001b[0;31mNameError\u001b[0m                                 Traceback (most recent call last)",
      "\u001b[0;32m/tmp/ipykernel_223772/2731136902.py\u001b[0m in \u001b[0;36m<module>\u001b[0;34m\u001b[0m\n\u001b[1;32m     18\u001b[0m \u001b[0;34m(\u001b[0m\u001b[0ms1\u001b[0m\u001b[0;34m*\u001b[0m\u001b[0ms2\u001b[0m\u001b[0;34m*\u001b[0m\u001b[0mc\u001b[0m\u001b[0;34m)\u001b[0m \u001b[0mtamanho\u001b[0m \u001b[0mdo\u001b[0m \u001b[0mpatch\u001b[0m\u001b[0;34m\u001b[0m\u001b[0;34m\u001b[0m\u001b[0m\n\u001b[1;32m     19\u001b[0m \"\"\"\n\u001b[0;32m---> 20\u001b[0;31m \u001b[0mpathes\u001b[0m \u001b[0;34m=\u001b[0m \u001b[0mrearrange\u001b[0m\u001b[0;34m(\u001b[0m\u001b[0mx\u001b[0m\u001b[0;34m,\u001b[0m \u001b[0;34m'b c (h s1) (w s2) -> b (h w) (s1 s2 c)'\u001b[0m\u001b[0;34m,\u001b[0m \u001b[0ms1\u001b[0m\u001b[0;34m=\u001b[0m\u001b[0mpatch_size\u001b[0m\u001b[0;34m,\u001b[0m \u001b[0ms2\u001b[0m\u001b[0;34m=\u001b[0m\u001b[0mpatch_size\u001b[0m\u001b[0;34m)\u001b[0m\u001b[0;34m\u001b[0m\u001b[0;34m\u001b[0m\u001b[0m\n\u001b[0m\u001b[1;32m     21\u001b[0m \u001b[0;34m\u001b[0m\u001b[0m\n\u001b[1;32m     22\u001b[0m \u001b[0mfig\u001b[0m \u001b[0;34m=\u001b[0m \u001b[0mplt\u001b[0m\u001b[0;34m.\u001b[0m\u001b[0mfigure\u001b[0m\u001b[0;34m(\u001b[0m\u001b[0;34m)\u001b[0m\u001b[0;34m\u001b[0m\u001b[0;34m\u001b[0m\u001b[0m\n",
      "\u001b[0;31mNameError\u001b[0m: name 'rearrange' is not defined"
     ]
    }
   ],
   "source": [
    "# Operation patches | i can see patches\n",
    "# when put (h w) or (s1 s2 c) significa flatten operation\n",
    "patch_size = 16 # 16 pixels\n",
    "\n",
    "# b = 1, c = 1, (h s1) = 224, (w s2) = 224\n",
    "\n",
    "#(h w) = 14*14, # (s1 s2 c) = 1*16*16\n",
    "\n",
    "\"\"\"A leitura que eu tenho disso é que de alguma forma s1 ou s2 será retirado de h e w respectivamente.\n",
    "E assumirar outra posicao ou seja (h s1) = 224, implica dizer que s1 já estar contido dentro de h na forma\n",
    "de m.m.c.\n",
    "\n",
    "Por exemplo: quando eu coloco patch_size = 15 ele mostra esse error:\n",
    "\n",
    "EinopsError: Shape mismatch, can't divide axis of length 224 in chunks of 15.\n",
    "\n",
    "(h*w) Quantidade de blocos.\n",
    "(s1*s2*c) tamanho do patch\n",
    "\"\"\"\n",
    "pathes = rearrange(x, 'b c (h s1) (w s2) -> b (h w) (s1 s2 c)', s1=patch_size, s2=patch_size)\n",
    "\n",
    "fig = plt.figure()\n",
    "plt.imshow((pathes[0,44,:].reshape(patch_size, patch_size)),cmap = 'gray')\n",
    "\n",
    "plt.figure(figsize=(4, 4))\n",
    "\n",
    "\n",
    "# plt.imshow(image.astype('uint8'))\n",
    "# plt.axis('off')\n",
    "\n",
    "# resized_image = tf.image.resize(\n",
    "#     tf.convert_to_tensor([image]), size = (image_size, image_size)\n",
    "# )\n",
    "\n",
    "# patches = Patches(patch_size)(resized_image)\n",
    "# print(f'Image size: {image_size} X {image_size}')\n",
    "# print(f'Patch size: {patch_size} X {patch_size}')\n",
    "# print(f'Patches per image: {patches.shape[1]}')\n",
    "# print(f'Elements per patch: {patches.shape[-1]}')\n",
    "\n",
    "# n = int(np.sqrt(patches.shape[1]))\n",
    "# plt.figure(figsize=(4, 4))"
   ]
  },
  {
   "cell_type": "code",
   "execution_count": 7,
   "id": "49742bb6",
   "metadata": {},
   "outputs": [],
   "source": [
    "from vit_transformer import ViT\n",
    "\n",
    "model = ViT()"
   ]
  },
  {
   "cell_type": "code",
   "execution_count": 8,
   "id": "3d7e6525",
   "metadata": {},
   "outputs": [
    {
     "name": "stdout",
     "output_type": "stream",
     "text": [
      "=================================================================\n",
      "Layer (type:depth-idx)                   Param #\n",
      "=================================================================\n",
      "├─PatchEmbedding: 1-1                    --\n",
      "|    └─Sequential: 2-1                   --\n",
      "|    |    └─Conv2d: 3-1                  197,376\n",
      "|    |    └─Rearrange: 3-2               --\n",
      "├─TransformerEncoder: 1-2                --\n",
      "|    └─TransformerEncoderBlock: 2-2      --\n",
      "|    |    └─ResidualAdd: 3-3             2,363,904\n",
      "|    |    └─ResidualAdd: 3-4             2,363,136\n",
      "|    └─TransformerEncoderBlock: 2-3      --\n",
      "|    |    └─ResidualAdd: 3-5             2,363,904\n",
      "|    |    └─ResidualAdd: 3-6             2,363,136\n",
      "|    └─TransformerEncoderBlock: 2-4      --\n",
      "|    |    └─ResidualAdd: 3-7             2,363,904\n",
      "|    |    └─ResidualAdd: 3-8             2,363,136\n",
      "|    └─TransformerEncoderBlock: 2-5      --\n",
      "|    |    └─ResidualAdd: 3-9             2,363,904\n",
      "|    |    └─ResidualAdd: 3-10            2,363,136\n",
      "|    └─TransformerEncoderBlock: 2-6      --\n",
      "|    |    └─ResidualAdd: 3-11            2,363,904\n",
      "|    |    └─ResidualAdd: 3-12            2,363,136\n",
      "|    └─TransformerEncoderBlock: 2-7      --\n",
      "|    |    └─ResidualAdd: 3-13            2,363,904\n",
      "|    |    └─ResidualAdd: 3-14            2,363,136\n",
      "|    └─TransformerEncoderBlock: 2-8      --\n",
      "|    |    └─ResidualAdd: 3-15            2,363,904\n",
      "|    |    └─ResidualAdd: 3-16            2,363,136\n",
      "|    └─TransformerEncoderBlock: 2-9      --\n",
      "|    |    └─ResidualAdd: 3-17            2,363,904\n",
      "|    |    └─ResidualAdd: 3-18            2,363,136\n",
      "|    └─TransformerEncoderBlock: 2-10     --\n",
      "|    |    └─ResidualAdd: 3-19            2,363,904\n",
      "|    |    └─ResidualAdd: 3-20            2,363,136\n",
      "|    └─TransformerEncoderBlock: 2-11     --\n",
      "|    |    └─ResidualAdd: 3-21            2,363,904\n",
      "|    |    └─ResidualAdd: 3-22            2,363,136\n",
      "|    └─TransformerEncoderBlock: 2-12     --\n",
      "|    |    └─ResidualAdd: 3-23            2,363,904\n",
      "|    |    └─ResidualAdd: 3-24            2,363,136\n",
      "|    └─TransformerEncoderBlock: 2-13     --\n",
      "|    |    └─ResidualAdd: 3-25            2,363,904\n",
      "|    |    └─ResidualAdd: 3-26            2,363,136\n",
      "├─ClassificationHead: 1-3                --\n",
      "|    └─Reduce: 2-14                      --\n",
      "|    └─LayerNorm: 2-15                   1,536\n",
      "|    └─Linear: 2-16                      9,228\n",
      "=================================================================\n",
      "Total params: 56,932,620\n",
      "Trainable params: 56,932,620\n",
      "Non-trainable params: 0\n",
      "=================================================================\n"
     ]
    },
    {
     "data": {
      "text/plain": [
       "=================================================================\n",
       "Layer (type:depth-idx)                   Param #\n",
       "=================================================================\n",
       "├─PatchEmbedding: 1-1                    --\n",
       "|    └─Sequential: 2-1                   --\n",
       "|    |    └─Conv2d: 3-1                  197,376\n",
       "|    |    └─Rearrange: 3-2               --\n",
       "├─TransformerEncoder: 1-2                --\n",
       "|    └─TransformerEncoderBlock: 2-2      --\n",
       "|    |    └─ResidualAdd: 3-3             2,363,904\n",
       "|    |    └─ResidualAdd: 3-4             2,363,136\n",
       "|    └─TransformerEncoderBlock: 2-3      --\n",
       "|    |    └─ResidualAdd: 3-5             2,363,904\n",
       "|    |    └─ResidualAdd: 3-6             2,363,136\n",
       "|    └─TransformerEncoderBlock: 2-4      --\n",
       "|    |    └─ResidualAdd: 3-7             2,363,904\n",
       "|    |    └─ResidualAdd: 3-8             2,363,136\n",
       "|    └─TransformerEncoderBlock: 2-5      --\n",
       "|    |    └─ResidualAdd: 3-9             2,363,904\n",
       "|    |    └─ResidualAdd: 3-10            2,363,136\n",
       "|    └─TransformerEncoderBlock: 2-6      --\n",
       "|    |    └─ResidualAdd: 3-11            2,363,904\n",
       "|    |    └─ResidualAdd: 3-12            2,363,136\n",
       "|    └─TransformerEncoderBlock: 2-7      --\n",
       "|    |    └─ResidualAdd: 3-13            2,363,904\n",
       "|    |    └─ResidualAdd: 3-14            2,363,136\n",
       "|    └─TransformerEncoderBlock: 2-8      --\n",
       "|    |    └─ResidualAdd: 3-15            2,363,904\n",
       "|    |    └─ResidualAdd: 3-16            2,363,136\n",
       "|    └─TransformerEncoderBlock: 2-9      --\n",
       "|    |    └─ResidualAdd: 3-17            2,363,904\n",
       "|    |    └─ResidualAdd: 3-18            2,363,136\n",
       "|    └─TransformerEncoderBlock: 2-10     --\n",
       "|    |    └─ResidualAdd: 3-19            2,363,904\n",
       "|    |    └─ResidualAdd: 3-20            2,363,136\n",
       "|    └─TransformerEncoderBlock: 2-11     --\n",
       "|    |    └─ResidualAdd: 3-21            2,363,904\n",
       "|    |    └─ResidualAdd: 3-22            2,363,136\n",
       "|    └─TransformerEncoderBlock: 2-12     --\n",
       "|    |    └─ResidualAdd: 3-23            2,363,904\n",
       "|    |    └─ResidualAdd: 3-24            2,363,136\n",
       "|    └─TransformerEncoderBlock: 2-13     --\n",
       "|    |    └─ResidualAdd: 3-25            2,363,904\n",
       "|    |    └─ResidualAdd: 3-26            2,363,136\n",
       "├─ClassificationHead: 1-3                --\n",
       "|    └─Reduce: 2-14                      --\n",
       "|    └─LayerNorm: 2-15                   1,536\n",
       "|    └─Linear: 2-16                      9,228\n",
       "=================================================================\n",
       "Total params: 56,932,620\n",
       "Trainable params: 56,932,620\n",
       "Non-trainable params: 0\n",
       "================================================================="
      ]
     },
     "execution_count": 8,
     "metadata": {},
     "output_type": "execute_result"
    }
   ],
   "source": [
    "summary(model)"
   ]
  },
  {
   "cell_type": "code",
   "execution_count": 9,
   "id": "4a07cc9e",
   "metadata": {},
   "outputs": [
    {
     "data": {
      "text/plain": [
       "tensor([[ 1.4050,  0.7984, -0.2976, -0.0903,  0.4680, -0.2246,  0.1492, -0.5737,\n",
       "          0.5063, -0.1298, -0.0438, -0.0103]], grad_fn=<AddmmBackward>)"
      ]
     },
     "execution_count": 9,
     "metadata": {},
     "output_type": "execute_result"
    }
   ],
   "source": [
    "#x.shape\n",
    "model.forward(x)"
   ]
  },
  {
   "cell_type": "markdown",
   "id": "a89a51af",
   "metadata": {},
   "source": [
    "### Training VIT"
   ]
  },
  {
   "cell_type": "code",
   "execution_count": 10,
   "id": "2ed1c8a9",
   "metadata": {},
   "outputs": [],
   "source": [
    "from __future__ import print_function\n",
    "import argparse\n",
    "import torch\n",
    "import torch.nn as nn\n",
    "import torch.nn.functional as F\n",
    "import torch.optim as optim\n",
    "from torchvision import datasets, transforms\n",
    "from torch.autograd import Variable"
   ]
  },
  {
   "cell_type": "code",
   "execution_count": 11,
   "id": "88c2253d",
   "metadata": {},
   "outputs": [],
   "source": [
    "args={}\n",
    "kwargs={}\n",
    "args['batch_size']=5\n",
    "args['test_batch_size']=5\n",
    "args['epochs']=10  #The number of Epochs is the number of times you go through the full dataset. \n",
    "args['lr']=0.01 #Learning rate is how fast it will decend. \n",
    "args['momentum']=0.5 #SGD momentum (default: 0.5) Momentum is a moving average of our gradients (helps to keep direction).\n",
    "\n",
    "args['seed']=1 #random seed\n",
    "args['log_interval']=10\n",
    "args['cuda']=True\n"
   ]
  },
  {
   "cell_type": "code",
   "execution_count": 12,
   "id": "703f64be",
   "metadata": {},
   "outputs": [],
   "source": [
    "#load the data\n",
    "train_loader = torch.utils.data.DataLoader(\n",
    "    datasets.MNIST('../data', train=True, download=True,\n",
    "                   transform=transforms.Compose([Resize((224, 224)),\n",
    "                       transforms.ToTensor()#,\n",
    "                       #transforms.Normalize((0.1307,), (0.3081,))\n",
    "                   ])),\n",
    "    batch_size=args['batch_size'], shuffle=True, **kwargs)\n",
    "test_loader = torch.utils.data.DataLoader(\n",
    "    datasets.MNIST('../data', train=False, transform=transforms.Compose([Resize((224, 224)),\n",
    "                       transforms.ToTensor()#,\n",
    "                       #transforms.Normalize((0.1307,), (0.3081,))\n",
    "                   ])),\n",
    "    batch_size=args['test_batch_size'], shuffle=True, **kwargs)\n",
    "\n",
    "criterion = torch.nn.CrossEntropyLoss()\n"
   ]
  },
  {
   "cell_type": "code",
   "execution_count": 13,
   "id": "fbd62645",
   "metadata": {},
   "outputs": [],
   "source": [
    "\n",
    "def train(epoch):\n",
    "    model.train()\n",
    "    for batch_idx, (data, target) in enumerate(train_loader):\n",
    "        if args['cuda']:\n",
    "            data, target = data.cuda(), target.cuda()\n",
    "        #Variables in Pytorch are differenciable. \n",
    "        data, target = Variable(data), Variable(target)\n",
    "        #This will zero out the gradients for this batch. \n",
    "        optimizer.zero_grad()\n",
    "        output = model(data)\n",
    "        # Calculate the loss The negative log likelihood loss. It is useful to train a classification problem with C classes.\n",
    "        output = F.log_softmax(output, dim=1)\n",
    "        \n",
    "        loss = criterion(output,  target)\n",
    "        #dloss/dx for every Variable \n",
    "        loss.backward()\n",
    "        #to do a one-step update on our parameter.\n",
    "        optimizer.step()\n",
    "        #Print out the loss periodically. \n",
    "        if batch_idx % args['log_interval'] == 0:\n",
    "            print('Train Epoch: {} [{}/{} ({:.0f}%)]\\tLoss: {:.6f}'.format(\n",
    "                epoch, batch_idx * len(data), len(train_loader.dataset),\n",
    "                100. * batch_idx / len(train_loader), loss.item()))\n",
    "\n",
    "def test():\n",
    "    model.eval()\n",
    "    test_loss = 0\n",
    "    correct = 0\n",
    "    for data, target in test_loader:\n",
    "        if args['cuda']:\n",
    "            data, target = data.cuda(), target.cuda()\n",
    "        data, target = Variable(data, volatile=True), Variable(target)\n",
    "        output = model(data)\n",
    "        test_loss += F.nll_loss(output, target, size_average=False).data[0] # sum up batch loss\n",
    "        pred = output.data.max(1, keepdim=True)[1] # get the index of the max log-probability\n",
    "        correct += pred.eq(target.data.view_as(pred)).long().cpu().sum()\n",
    "\n",
    "    test_loss /= len(test_loader.dataset)\n",
    "    print('\\nTest set: Average loss: {:.4f}, Accuracy: {}/{} ({:.0f}%)\\n'.format(\n",
    "        test_loss, correct, len(test_loader.dataset),\n",
    "        100. * correct / len(test_loader.dataset)))\n",
    "\n",
    "\n"
   ]
  },
  {
   "cell_type": "code",
   "execution_count": null,
   "id": "8ac55697",
   "metadata": {
    "scrolled": false
   },
   "outputs": [
    {
     "name": "stdout",
     "output_type": "stream",
     "text": [
      "Train Epoch: 1 [0/60000 (0%)]\tLoss: 2.575899\n",
      "Train Epoch: 1 [50/60000 (0%)]\tLoss: 4.481823\n",
      "Train Epoch: 1 [100/60000 (0%)]\tLoss: 3.102627\n",
      "Train Epoch: 1 [150/60000 (0%)]\tLoss: 6.416216\n",
      "Train Epoch: 1 [200/60000 (0%)]\tLoss: 2.007169\n",
      "Train Epoch: 1 [250/60000 (0%)]\tLoss: 5.707759\n",
      "Train Epoch: 1 [300/60000 (0%)]\tLoss: 2.156163\n",
      "Train Epoch: 1 [350/60000 (1%)]\tLoss: 4.418743\n",
      "Train Epoch: 1 [400/60000 (1%)]\tLoss: 3.825426\n",
      "Train Epoch: 1 [450/60000 (1%)]\tLoss: 2.888053\n",
      "Train Epoch: 1 [500/60000 (1%)]\tLoss: 2.601784\n",
      "Train Epoch: 1 [550/60000 (1%)]\tLoss: 2.525752\n",
      "Train Epoch: 1 [600/60000 (1%)]\tLoss: 3.791602\n",
      "Train Epoch: 1 [650/60000 (1%)]\tLoss: 1.974908\n"
     ]
    }
   ],
   "source": [
    "#model = Net()\n",
    "if args['cuda']:\n",
    "    model.cuda()\n",
    "\n",
    "optimizer = optim.SGD(model.parameters(), lr=args['lr'], momentum=args['momentum'])\n",
    "\n",
    "for epoch in range(1, args['epochs'] + 1):\n",
    "    train(epoch)\n",
    "    test()\n"
   ]
  },
  {
   "cell_type": "code",
   "execution_count": null,
   "id": "a12cf30b",
   "metadata": {},
   "outputs": [],
   "source": [
    "del model"
   ]
  },
  {
   "cell_type": "code",
   "execution_count": null,
   "id": "b3e6ae56",
   "metadata": {},
   "outputs": [],
   "source": []
  }
 ],
 "metadata": {
  "kernelspec": {
   "display_name": "Python 3 (ipykernel)",
   "language": "python",
   "name": "python3"
  },
  "language_info": {
   "codemirror_mode": {
    "name": "ipython",
    "version": 3
   },
   "file_extension": ".py",
   "mimetype": "text/x-python",
   "name": "python",
   "nbconvert_exporter": "python",
   "pygments_lexer": "ipython3",
   "version": "3.9.7"
  }
 },
 "nbformat": 4,
 "nbformat_minor": 5
}
