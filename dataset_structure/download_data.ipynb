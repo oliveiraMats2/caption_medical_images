{
 "cells": [
  {
   "cell_type": "markdown",
   "metadata": {},
   "source": [
    "<h1>Instrucoes de Download</h1>\n",
    "\n",
    "<p>Para baixar o dataset ROCO, favor rodar as células abaixo</p>"
   ]
  },
  {
   "cell_type": "code",
   "execution_count": 2,
   "metadata": {},
   "outputs": [
    {
     "name": "stdout",
     "output_type": "stream",
     "text": [
      "Cloning into 'roco-dataset'...\n",
      "remote: Enumerating objects: 114, done.\u001b[K\n",
      "remote: Counting objects: 100% (23/23), done.\u001b[K\n",
      "remote: Compressing objects: 100% (11/11), done.\u001b[K\n",
      "remote: Total 114 (delta 7), reused 20 (delta 7), pack-reused 91\u001b[K\n",
      "Receiving objects: 100% (114/114), 13.01 MiB | 18.60 MiB/s, done.\n",
      "Resolving deltas: 100% (31/31), done.\n"
     ]
    }
   ],
   "source": [
    "!git clone https://github.com/razorx89/roco-dataset"
   ]
  },
  {
   "cell_type": "markdown",
   "metadata": {},
   "source": [
    "Um diretorio cotendo urls de imagens do dataset foi criado. Para converter as urls em imagem precisamos rodar um script como mostra a célula abaixo. \n",
    "\n",
    "Antes de executá-la devemos excluir as linhas 21, 23 e 25 do arquivo patch.py para nao baixarmos nenhuma imagem que nao seja de radiologia."
   ]
  },
  {
   "cell_type": "code",
   "execution_count": 6,
   "metadata": {},
   "outputs": [
    {
     "name": "stdout",
     "output_type": "stream",
     "text": [
      "Configuration:\n",
      "Subdirectory: images\n",
      "Extraction directory: /var/folders/_4/f4d7l9bd0832w26kwt0clygm0000gn/T/roco-dataset\n",
      "Keep archives: False\n",
      "Delete contents of extraction directory: False\n",
      "Number of processes: 8\n",
      "Number of download retries: 10\n",
      "Fetching ROCO dataset images...\n",
      "0.000% | 0/46598 | PMC4813433\n",
      "0.002% | 1/46598 | PMC4840839\n",
      "0.004% | 2/46598 | PMC4608653\n",
      "0.006% | 3/46598 | PMC4078144\n",
      "0.009% | 4/46598 | PMC3669468\n",
      "0.011% | 5/46598 | PMC4252315\n",
      "0.013% | 6/46598 | PMC3075170\n",
      "0.015% | 7/46598 | PMC4137682\n",
      "^C\n",
      "Traceback (most recent call last):\n",
      "  File \"/Library/Developer/CommandLineTools/Library/Frameworks/Python3.framework/Versions/3.8/lib/python3.8/multiprocessing/pool.py\", line 851, in next\n",
      "    item = self._items.popleft()\n",
      "IndexError: pop from an empty deque\n",
      "\n",
      "During handling of the above exception, another exception occurred:\n",
      "\n",
      "Traceback (most recent call last):\n",
      "  File \"roco-dataset/scripts/fetch.py\", line 338, in <module>\n",
      "    for i, pmc_id in enumerate(pool.imap_unordered(process_group,\n",
      "  File \"/Library/Developer/CommandLineTools/Library/Frameworks/Python3.framework/Versions/3.8/lib/python3.8/multiprocessing/pool.py\", line 856, in next\n",
      "    self._cond.wait(timeout)\n",
      "  File \"/Library/Developer/CommandLineTools/Library/Frameworks/Python3.framework/Versions/3.8/lib/python3.8/threading.py\", line 302, in wait\n",
      "Process SpawnPoolWorker-8:\n",
      "Process SpawnPoolWorker-7:\n",
      "    waiter.acquire()\n",
      "KeyboardInterrupt\n",
      "Process SpawnPoolWorker-6:\n",
      "Process SpawnPoolWorker-5:\n",
      "Process SpawnPoolWorker-3:\n",
      "Process SpawnPoolWorker-2:\n",
      "Process SpawnPoolWorker-4:\n",
      "Process SpawnPoolWorker-1:\n"
     ]
    }
   ],
   "source": [
    "!python roco-dataset/scripts/fetch.py"
   ]
  }
 ],
 "metadata": {
  "kernelspec": {
   "display_name": "Python 3.8.9 64-bit",
   "language": "python",
   "name": "python3"
  },
  "language_info": {
   "codemirror_mode": {
    "name": "ipython",
    "version": 3
   },
   "file_extension": ".py",
   "mimetype": "text/x-python",
   "name": "python",
   "nbconvert_exporter": "python",
   "pygments_lexer": "ipython3",
   "version": "3.8.9"
  },
  "orig_nbformat": 4,
  "vscode": {
   "interpreter": {
    "hash": "31f2aee4e71d21fbe5cf8b01ff0e069b9275f58929596ceb00d14d90e3e16cd6"
   }
  }
 },
 "nbformat": 4,
 "nbformat_minor": 2
}
